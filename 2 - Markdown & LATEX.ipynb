{
 "cells": [
  {
   "cell_type": "markdown",
   "metadata": {
    "slideshow": {
     "slide_type": "-"
    }
   },
   "source": [
    "# Tutorial Brief"
   ]
  },
  {
   "cell_type": "markdown",
   "metadata": {
    "slideshow": {
     "slide_type": "-"
    }
   },
   "source": [
    "This covers the basics of using markdown cells. You can think of markdown cells as documention for your code with extended features.\n",
    "\n",
    "- [IPython Documentation](http://ipython.readthedocs.io/en/stable/index.html)\n",
    "- [nbviewer](http://nbviewer.ipython.org/)"
   ]
  },
  {
   "cell_type": "markdown",
   "metadata": {},
   "source": [
    "## Part I &nbsp; - &nbsp; Markdown"
   ]
  },
  {
   "cell_type": "markdown",
   "metadata": {},
   "source": [
    "### 1. Headers\n",
    "---\n",
    "\n",
    "#### Code\n",
    "\n",
    "```markdown\n",
    "# Head 1\n",
    "## Head 2\n",
    "### Head 3\n",
    "#### Head 4\n",
    "\n",
    "Alt Heading 1\n",
    "===\n",
    "\n",
    "Alt Heading 2\n",
    "---\n",
    "```"
   ]
  },
  {
   "cell_type": "markdown",
   "metadata": {
    "slideshow": {
     "slide_type": "-"
    }
   },
   "source": [
    "#### Output\n",
    "\n",
    "# Head 1\n",
    "## Head 2\n",
    "### Head 3\n",
    "#### Head 4\n",
    "\n",
    "Alt Heading 1\n",
    "===\n",
    "\n",
    "Alt Heading 2\n",
    "---\n",
    "\n",
    "<br><br>"
   ]
  },
  {
   "cell_type": "markdown",
   "metadata": {},
   "source": [
    "### 2. Emphasis\n",
    "---\n",
    "\n",
    "#### Code\n",
    "\n",
    "(2.1) _Italics_\n",
    "\n",
    "```markdown\n",
    "- *Italic*\n",
    "- _Italic_\n",
    "```\n",
    "\n",
    "(2.2) _Strong_\n",
    "\n",
    "```markdown\n",
    "- **Bold**\n",
    "- __Bold__\n",
    "```\n",
    "\n",
    "(2.3) _Strikethrough_\n",
    "\n",
    "```markdown\n",
    "- ~~Throught~~\n",
    "```"
   ]
  },
  {
   "cell_type": "markdown",
   "metadata": {},
   "source": [
    "#### Output\n",
    "\n",
    "(2.1) _Italics_\n",
    " - *Italic*\n",
    " - _Italic_\n",
    " \n",
    "(2.2) _Strong_\n",
    " - **Bold**\n",
    " - __Bold__\n",
    "\n",
    "(2.3) _Strikethrough_\n",
    " - ~~Throught~~\n",
    "\n",
    "<br><br>"
   ]
  },
  {
   "cell_type": "markdown",
   "metadata": {},
   "source": [
    "### 3. Lists\n",
    "---\n",
    "\n",
    "#### Code\n",
    "\n",
    "(3.1) Unordered Lists\n",
    "\n",
    "Creating simple lists (unordered lists) is done by using plus (+), hyphens (-) or asterisks (*) as list markers. These list markers are interchangeable.\n",
    "\n",
    "```markdown\n",
    "- Item 1\n",
    "+ Item 2\n",
    "* Item 3\n",
    "```\n",
    "\n",
    "(3.2) Ordered List\n",
    "\n",
    "Number does not matter.\n",
    "\n",
    "```markdown\n",
    "1. Item 1\n",
    "2. Item 2\n",
    "  1. Sub Item 1\n",
    "  2. Sub Item 2\n",
    "5. Item 3\n",
    "10. Item 4\n",
    "5. Item 5\n",
    "```\n",
    "\n",
    "(3.3) Nested List\n",
    "\n",
    "Nest a list requires you to indent by **exactly** four spaces.\n",
    "\n",
    "```markdown\n",
    "+ Sub Item 1\n",
    "    - Subsub Item 1\n",
    "        * Subsubsub Item 1\n",
    "        * Subsubsub Item 2\n",
    "    - Subsub Item 2\n",
    "    - Subsub Item 3\n",
    "+ Sub Item 2\n",
    "+ Sub Item 3\n",
    "```\n",
    "\n",
    "(3.4) Mixed List\n",
    "\n",
    "```markdown\n",
    "1. Item 1\n",
    "2. Item 2\n",
    " + Sub Item 1\n",
    "     - Subsub Item 1\n",
    "         * Subsubsub Item 1\n",
    "         * Subsubsub Item 2\n",
    "     - Subsub Item 2\n",
    "     - Subsub Item 3\n",
    " + Sub Item 2\n",
    "3. Item 3\n",
    "```"
   ]
  },
  {
   "cell_type": "markdown",
   "metadata": {},
   "source": [
    "#### Output\n",
    "\n",
    "(3.1) Unordered Lists\n",
    "\n",
    "Creating simple lists (unordered lists) is done by using plus (+), hyphens (-) or asterisks (*) as list markers. These list markers are interchangeable.\n",
    "\n",
    "- Item 1\n",
    "+ Item 2\n",
    "* Item 3\n",
    "\n",
    "(3.2) Ordered List\n",
    "\n",
    "Number does not matter.\n",
    "\n",
    "1. Item 1\n",
    "2. Item 2\n",
    "  1. Sub Item 1\n",
    "  2. Sub Item 2\n",
    "5. Item 3\n",
    "10. Item 4\n",
    "5. Item 5\n",
    "\n",
    "(3.3) Nested List\n",
    "\n",
    "Nest a list requires you to indent by **exactly** four spaces.\n",
    "\n",
    "+ Sub Item 1\n",
    "    - Subsub Item 1\n",
    "        * Subsubsub Item 1\n",
    "        * Subsubsub Item 2\n",
    "    - Subsub Item 2\n",
    "    - Subsub Item 3\n",
    "+ Sub Item 2\n",
    "+ Sub Item 3\n",
    "\n",
    "(3.4) Mixed List\n",
    "\n",
    "1. Item 1\n",
    "2. Item 2\n",
    " + Sub Item 1\n",
    "     - Subsub Item 1\n",
    "         * Subsubsub Item 1\n",
    "         * Subsubsub Item 2\n",
    "     - Subsub Item 2\n",
    "     - Subsub Item 3\n",
    " + Sub Item 2\n",
    "3. Item 3\n",
    "\n",
    "<br><br>"
   ]
  },
  {
   "cell_type": "markdown",
   "metadata": {},
   "source": [
    "### 4. Links\n",
    "---\n",
    "\n",
    "#### Code\n",
    "\n",
    "(4.1) Inline\n",
    "\n",
    "```markdown\n",
    "https://www.google.com\n",
    "\n",
    "[Google](https://www.google.com)\n",
    "\n",
    "[Google with title (hover)](https://www.google.com \"Google's Homepage\")\n",
    "```\n",
    "\n",
    "(4.2) Reference\n",
    "\n",
    "```markdown\n",
    "This is a guide on [Markdown][1].\n",
    "\n",
    "[1]: http://en.wikipedia.org/wiki/Markdown        \"Markdown in Wikipedia\"\n",
    "```"
   ]
  },
  {
   "cell_type": "markdown",
   "metadata": {},
   "source": [
    "#### Output\n",
    "\n",
    "(4.1) Inline\n",
    "\n",
    "https://www.google.com\n",
    "\n",
    "[Google](https://www.google.com)\n",
    "\n",
    "[Google with title (hover)](https://www.google.com \"Google's Homepage\")\n",
    "\n",
    "\n",
    "(4.2) Reference\n",
    "\n",
    "This is a guide on [Markdown][1].\n",
    "\n",
    "[1]: http://en.wikipedia.org/wiki/Markdown        \"Markdown in Wikipedia\"\n",
    "\n",
    "<br><br>"
   ]
  },
  {
   "cell_type": "markdown",
   "metadata": {},
   "source": [
    "### 5. Blockquotes\n",
    "---\n",
    "\n",
    "#### Code\n",
    "\n",
    "```markdown\n",
    "> This is blockquoted text.\n",
    ">\n",
    "> This is a second paragraph within the blockquoted text.\n",
    "```"
   ]
  },
  {
   "cell_type": "markdown",
   "metadata": {},
   "source": [
    "#### Output\n",
    "> This is blockquoted text.\n",
    ">\n",
    "> This is a second paragraph within the blockquoted text.\n",
    "\n",
    "<br><br>"
   ]
  },
  {
   "cell_type": "markdown",
   "metadata": {},
   "source": [
    "### 6. Line Return / Line Break\n",
    "---\n",
    "\n",
    "#### Code\n",
    "\n",
    "(6.1) Press Enter\n",
    "\n",
    "```markdown\n",
    "Forcing a line-break\n",
    "Next line in the list\n",
    "```\n",
    "\n",
    "(6.2) Press Enter twice\n",
    "\n",
    "```markdown\n",
    "Forcing a line-break\n",
    "\n",
    "Next line in the list\n",
    "```\n",
    "\n",
    "(6.3) Add HTML br tag\n",
    "\n",
    "```markdown\n",
    "Forcing a line-break <br>\n",
    "Next line in the list\n",
    "```"
   ]
  },
  {
   "cell_type": "markdown",
   "metadata": {},
   "source": [
    "#### Output\n",
    "\n",
    "(6.1) Press Enter\n",
    "\n",
    "Forcing a line-break\n",
    "Next line in the list\n",
    "\n",
    "(6.2) Press Enter twice\n",
    "\n",
    "Forcing a line-break\n",
    "\n",
    "Next line in the list\n",
    "\n",
    "(6.3) Add HTML br tag\n",
    "\n",
    "Forcing a line-break <br>\n",
    "Next line in the list\n",
    "\n",
    "<br><br>"
   ]
  },
  {
   "cell_type": "markdown",
   "metadata": {},
   "source": [
    "### 7. Horizontal Rules\n",
    "---\n",
    "\n",
    "You can create a horizontal rule by placing **3 or more** asterisks (*), hyphens (-), or underscores (_) on a single line. Spaces between them is allowed.\n",
    "\n",
    "##### Code\n",
    "\n",
    "(7.1) Asterisks\n",
    "\n",
    "```markdown\n",
    "***\n",
    "(Line break)\n",
    "* * *\n",
    "(Line break)\n",
    "**********\n",
    "```\n",
    "\n",
    "(7.2) Hyphens\n",
    "\n",
    "```markdown\n",
    "---\n",
    "(Line break)\n",
    "- - -\n",
    "(Line break)\n",
    "----------\n",
    "```\n",
    "\n",
    "(7.3) Underscores\n",
    "\n",
    "```markdown\n",
    "___\n",
    "(Line break)\n",
    "_ _ _\n",
    "(Line break)\n",
    "__________\n",
    "```"
   ]
  },
  {
   "cell_type": "markdown",
   "metadata": {},
   "source": [
    "#### Output\n",
    "\n",
    "(7.1) Asterisks\n",
    "\n",
    "***\n",
    "\n",
    "* * *\n",
    "\n",
    "**********\n",
    "\n",
    "\n",
    "(7.2) Hyphens\n",
    "\n",
    "---\n",
    "\n",
    "- - -\n",
    "\n",
    "----------\n",
    "\n",
    "\n",
    "(7.3) Underscores\n",
    "\n",
    "___\n",
    "\n",
    "_ _ _\n",
    "\n",
    "__________\n",
    "\n",
    "<br><br>\n"
   ]
  },
  {
   "cell_type": "markdown",
   "metadata": {},
   "source": [
    "### 8. Images\n",
    "---\n",
    "\n",
    "#### Code\n",
    "\n",
    "```markdown\n",
    "![Alt Text](http://www.google.com/logos/2012/turing-doodle-static.jpg \"Alan Turing's 100th Birthday\")\n",
    "```"
   ]
  },
  {
   "cell_type": "markdown",
   "metadata": {},
   "source": [
    "#### Output\n",
    "\n",
    "![Alt Text](http://www.google.com/logos/2012/turing-doodle-static.jpg \"Alan Turing's 100th Birthday\")\n",
    "\n",
    "<br><br>"
   ]
  },
  {
   "cell_type": "markdown",
   "metadata": {},
   "source": [
    "### 9. Code and Syntax Highlighting\n",
    "---\n",
    "\n",
    "#### Code\n",
    "\n",
    "````\n",
    "```python\n",
    "s = \"Python syntax highlighting\"\n",
    "print s\n",
    "```\n",
    "\n",
    "```javascript\n",
    "var s = \"JavaScript syntax highlighting\";\n",
    "alert(s);\n",
    "```\n",
    "\n",
    "```\n",
    "No language indicated, so no syntax highlighting. \n",
    "But let's throw in a <b>tag</b>.\n",
    "```\n",
    "````"
   ]
  },
  {
   "cell_type": "markdown",
   "metadata": {},
   "source": [
    "#### Output\n",
    "\n",
    "```python\n",
    "s = \"Python syntax highlighting\"\n",
    "print s\n",
    "```\n",
    "\n",
    "```javascript\n",
    "var s = \"JavaScript syntax highlighting\";\n",
    "alert(s);\n",
    "```\n",
    "\n",
    "```\n",
    "No language indicated, so no syntax highlighting. \n",
    "But let's throw in a <b>tag</b>.\n",
    "```\n",
    "\n",
    "<br><br>"
   ]
  },
  {
   "cell_type": "markdown",
   "metadata": {},
   "source": [
    "### 10. Tables\n",
    "---\n",
    "\n",
    "#### Code\n",
    "\n",
    "```markdown\n",
    "| Website   | URL           | Rank |\n",
    "| ---------:|:-------------:| ----:|\n",
    "| Google    | google.com    | 1    |\n",
    "| Facebook  | facebook.com  | 2    |\n",
    "| Youtube   | youtube.com   | 3    |\n",
    "```\n"
   ]
  },
  {
   "cell_type": "markdown",
   "metadata": {},
   "source": [
    "#### Output\n",
    "\n",
    "| Website   | URL           | Rank |\n",
    "| ---------:|:-------------:| ----:|\n",
    "| Google    | google.com    | 1    |\n",
    "| Facebook  | facebook.com  | 2    |\n",
    "| Youtube   | youtube.com   | 3    |\n",
    "\n",
    "<br><br>"
   ]
  },
  {
   "cell_type": "markdown",
   "metadata": {},
   "source": [
    "### 11. HTML\n",
    "---\n",
    "\n",
    "#### Code\n",
    "\n",
    "```markdown\n",
    "<hr>\n",
    "<p>Almost any <strong>HTML</strong> code will render<br />Just <i>fine</i>.</p>\n",
    "```"
   ]
  },
  {
   "cell_type": "markdown",
   "metadata": {},
   "source": [
    "#### Output\n",
    "\n",
    "```html\n",
    "<hr>\n",
    "<p>Almost any <strong>HTML</strong> code will render<br />Just <i>fine</i>.</p>\n",
    "```"
   ]
  },
  {
   "cell_type": "markdown",
   "metadata": {},
   "source": [
    "### 12. Unicode\n",
    "---\n",
    "\n",
    "If you can think of any symbol, it is available in unicode.\n",
    "\n",
    "#### Code\n",
    "\n",
    "```markdown\n",
    "- ©\n",
    "- ®\n",
    "- ™\n",
    "```"
   ]
  },
  {
   "cell_type": "markdown",
   "metadata": {},
   "source": [
    "#### Output\n",
    "\n",
    "- ©\n",
    "- ®\n",
    "- ™\n",
    "\n",
    "<br><br>"
   ]
  },
  {
   "cell_type": "markdown",
   "metadata": {},
   "source": [
    "### 13. YouTube Videos\n",
    "---\n",
    "\n",
    "#### Code\n",
    "\n",
    "They can't be added directly but you can add an image with a link to the video like below.\n",
    "\n",
    "(13.1) Use HTML a tag\n",
    "\n",
    "```html\n",
    "Format:\n",
    "<a href=\"http://www.youtube.com/watch?feature=player_embedded&v=YOUTUBE_VIDEO_ID_HERE\n",
    "\" target=\"_blank\"><img src=\"http://img.youtube.com/vi/YOUTUBE_VIDEO_ID_HERE/0.jpg\" \n",
    "alt=\"IMAGE ALT TEXT HERE\" width=\"240\" height=\"180\" border=\"10\" /></a>\n",
    "\n",
    "Example:\n",
    "<a href=\"http://www.youtube.com/watch?feature=player_embedded&v=R6Sh58B3cOE\n",
    "\" target=\"_blank\"><img src=\"http://img.youtube.com/vi/R6Sh58B3cOE/0.jpg\" \n",
    "alt=\"IMAGE ALT TEXT HERE\" width=\"240\" height=\"180\" border=\"10\" /></a>\n",
    "```\n",
    "\n",
    "(13.2) Use Markdown but at the cost of image sizing and border:\n",
    "\n",
    "```markdown\n",
    "Format:\n",
    "[![IMAGE ALT TEXT HERE](https://img.youtube.com/vi/YOUTUBE_VIDEO_ID_HERE/0.jpg)](https://www.youtube.com/watch?v=YOUTUBE_VIDEO_ID_HERE)\n",
    "\n",
    "Example:\n",
    "[![IMAGE ALT TEXT HERE](https://img.youtube.com/vi/R6Sh58B3cOE/0.jpg)](https://www.youtube.com/watch?v=R6Sh58B3cOE)\n",
    "```\n",
    "\n",
    "**_Note:_** Youtube Video ID:\n",
    "\n",
    "![ALT TEXT](https://docs.joeworkman.net/assets/rapidweaver/stacks/youtube/youtube-faq.png \"Youtube Video ID\")\n",
    "\n",
    "#### Output\n",
    "\n",
    "(13.1) Use HTML a tag\n",
    "\n",
    "<a href=\"http://www.youtube.com/watch?feature=player_embedded&v=R6Sh58B3cOE\n",
    "\" target=\"_blank\"><img src=\"http://img.youtube.com/vi/R6Sh58B3cOE/0.jpg\" \n",
    "alt=\"IMAGE ALT TEXT HERE\" width=\"240\" height=\"180\" border=\"10\" /></a>\n",
    "\n",
    "(13.2) Use Markdown\n",
    "\n",
    "[![IMAGE ALT TEXT HERE](https://img.youtube.com/vi/R6Sh58B3cOE/0.jpg)](https://www.youtube.com/watch?v=R6Sh58B3cOE)\n",
    "\n",
    "<br><br>"
   ]
  },
  {
   "cell_type": "markdown",
   "metadata": {},
   "source": [
    "### Reference\n",
    "---\n",
    "\n",
    "Some good references for Markdown Syntax:\n",
    "* [Markdown Guide - Basics](http://markdown-guide.readthedocs.io/en/latest/basics.html \"Markdown Guide - Basics\")\n",
    "* [Adam Pritchard's Summary](https://github.com/adam-p/markdown-here/wiki/Markdown-Cheatsheet \"Github \")\n",
    "\n",
    "<br><br>"
   ]
  },
  {
   "cell_type": "markdown",
   "metadata": {},
   "source": [
    "## Part II &nbsp; - &nbsp; $\\LaTeX$ Script in Markdown cell\n",
    "<br>\n",
    "\n",
    "Latex is a languange to represent mathematical formula using text.\n",
    "\n",
    "For Latex documentation please check the wiki:\n",
    "\n",
    "http://en.wikibooks.org/wiki/LaTeX/Mathematics"
   ]
  },
  {
   "cell_type": "markdown",
   "metadata": {},
   "source": [
    "### 1. Inline and Block $\\LaTeX$\n",
    "---\n",
    "\n",
    "#### Code\n",
    "\n",
    "Inline Formula: `$x=y$`\n",
    "\n",
    "Block Formula: `$$x=y$$`"
   ]
  },
  {
   "cell_type": "markdown",
   "metadata": {},
   "source": [
    "#### Output\n",
    "\n",
    "Inline Formula: $x=y$\n",
    "\n",
    "Block Formula: $$x=y$$\n",
    "\n",
    "<br><br>"
   ]
  },
  {
   "cell_type": "markdown",
   "metadata": {},
   "source": [
    "### 2. Greek Alphabet $^{[1]}$\n",
    "---\n",
    "\n",
    "| Name          |  Symbols               | $\\LaTeX$ Command             |\n",
    "|--------------:|:----------------------:|:----------------------------:|\n",
    "| Alpha         | $\\alpha$ $A$           | `$\\alpha$ $A$`               |\n",
    "| Beta          | $\\beta$ $B$            | `$\\beta$ $B$`                |\n",
    "| Gamma         | $\\gamma$ $\\Gamma$      | `$\\gamma$ $\\Gamma$`          |\n",
    "| Delta         | $\\delta$ $\\Delta$      | `$\\delta$ $\\Delta$`          | \n",
    "| Epsilon       | $\\epsilon$ $E$         | `$\\epsilon$ $E$`             | \n",
    "| Zeta          | $\\zeta$ $Z$            | `$\\zeta$ $Z$`                | \n",
    "| Eta           | $\\eta$ $E$             | `$\\eta$ $E$`                 | \n",
    "| Theta         | $\\theta$ $\\Theta$      | `$\\theta$ $\\Theta$`          |\n",
    "| Iota          | $\\iota$ $I$            | `$\\iota$ $I$`                |\n",
    "| Kappa         | $\\kappa$ $K$           | `$\\kappa$ $K$`               |\n",
    "| Lambda        | $\\lambda$ $\\Lambda$    | `$\\lambda$ $\\Lambda$`        |\n",
    "| Mu            | $\\mu$ $M$              | `$\\mu$ $M$`                  |\n",
    "| Nu            | $\\nu$ $N$              | `$\\nu$ $N$`                  |\n",
    "| Omicro        | $\\omicron$ $O$         | `$\\omicron$ $O$`             |\n",
    "| Pi            | $\\pi$ $\\Pi$            | `$\\pi$ $\\Pi$`                |\n",
    "| Rho           | $\\rho$ $R$             | `$\\rho$ $R$`                 |\n",
    "| Sigma         | $\\sigma$ $\\Sigma$      | `$\\sigma$ $\\Sigma$`          |\n",
    "| Tau           | $\\tau$ $T$             | `$\\tau$ $T$`                 |\n",
    "| Upsilon       | $\\upsilon$ $\\Upsilon$  | `$\\upsilon$ $\\Upsilon$`      |\n",
    "| Phi           | $\\phi$ $\\Phi$          | `$\\phi$ $\\Phi$`              |\n",
    "| Chi           | $\\chi$ $X$             | `$\\chi$ $X$`                 |\n",
    "| Psi           | $\\psi$ $\\Psi$          | `$\\psi$ $\\Psi$`              |\n",
    "| Omega         | $\\omega$ $\\Omega$      | `$\\omega$ $\\Omega$`          |\n",
    "\n",
    "<br><br>"
   ]
  },
  {
   "cell_type": "markdown",
   "metadata": {},
   "source": [
    "### 3. Basic operations\n",
    "---\n",
    "\n",
    "#### Code\n",
    "\n",
    "```markdown\n",
    "$y = x + 5$\n",
    "$y = x - 5$\n",
    "$y = 5x$\n",
    "$y = x \\times 5$\n",
    "$y = \\frac{x}{5}$\n",
    "$y = x \\div 5$\n",
    "```"
   ]
  },
  {
   "cell_type": "markdown",
   "metadata": {},
   "source": [
    "#### Output\n",
    "\n",
    " - $y = x + 5$\n",
    " - $y = x - 5$\n",
    " - $y = 5x$\n",
    " - $y = x \\times 5$\n",
    " - $y = \\frac{x}{5}$\n",
    " - $y = x \\div 5$\n",
    "\n",
    "<br><br>"
   ]
  },
  {
   "cell_type": "markdown",
   "metadata": {},
   "source": [
    "### 4. Power and Index\n",
    "---\n",
    "\n",
    "#### Code\n",
    "\n",
    "```markdown\n",
    "$y_n = x_n - x_{n-1}$\n",
    "$y = x^2 - 2x^{x-1}$\n",
    "```\n"
   ]
  },
  {
   "cell_type": "markdown",
   "metadata": {},
   "source": [
    "#### Output\n",
    "\n",
    " - $y_n = x_n - x_{n-1}$\n",
    " - $y = x^2 - 2x^{x-1}$\n",
    " \n",
    " <br><br>"
   ]
  },
  {
   "cell_type": "markdown",
   "metadata": {},
   "source": [
    "### 5. Fraction\n",
    "---\n",
    "\n",
    "#### Code\n",
    "\n",
    "```markdown\n",
    "- $^1/_2$\n",
    "- $\\frac{1}{2}$\n",
    "```"
   ]
  },
  {
   "cell_type": "markdown",
   "metadata": {},
   "source": [
    "#### Output\n",
    "\n",
    "- $^1/_2$\n",
    "- $\\frac{1}{2}$\n",
    "\n",
    "<br><br>"
   ]
  },
  {
   "cell_type": "markdown",
   "metadata": {},
   "source": [
    "### 6. Roots\n",
    "---\n",
    "\n",
    "#### Code\n",
    "\n",
    "```markdown\n",
    "$\\sqrt{\\frac{1}{3}}$\n",
    "$\\sqrt[3]{2x}$\n",
    "```"
   ]
  },
  {
   "cell_type": "markdown",
   "metadata": {},
   "source": [
    "#### Output\n",
    "\n",
    " - $\\sqrt{\\frac{1}{3}}$\n",
    " - $\\sqrt[3]{2x}$\n",
    " \n",
    "<br><br>"
   ]
  },
  {
   "cell_type": "markdown",
   "metadata": {},
   "source": [
    "### 7. Sums and Integrals\n",
    "---\n",
    "\n",
    "#### Code\n",
    "\n",
    "```markdown\n",
    "(7.1) Sums\n",
    "\n",
    "* $\\sum\\limits_{i = 1}^{10} t_i x_i$\n",
    "* $\\sum_{i = 1}^{10} t_i x_i$\n",
    "\n",
    "(7.2) Integrals\n",
    "\n",
    "+ $\\int\\limits_{- \\infty}^{\\infty} \\frac{1}{\\sqrt{2\\pi} \\sigma} e^{-\\frac{(x - \\mu)^2}{2 \\sigma^2}} dx$\n",
    "+ $\\int_{- \\infty}^{\\infty} \\frac{1}{\\sqrt{2\\pi} \\sigma} e^{-\\frac{(x - \\mu)^2}{2 \\sigma^2}} dx$\n",
    "\n",
    "```"
   ]
  },
  {
   "cell_type": "markdown",
   "metadata": {},
   "source": [
    "#### Output\n",
    "\n",
    "(7.1) Sums\n",
    "\n",
    "* $\\sum\\limits_{i = 1}^{10} t_i x_i$\n",
    "* $\\sum_{i = 1}^{10} t_i x_i$\n",
    "\n",
    "(7.2) Integrals\n",
    "\n",
    "+ $\\int\\limits_{- \\infty}^{\\infty} \\frac{1}{\\sqrt{2\\pi} \\sigma} e^{-\\frac{(x - \\mu)^2}{2 \\sigma^2}} dx$\n",
    "+ $\\int_{- \\infty}^{\\infty} \\frac{1}{\\sqrt{2\\pi} \\sigma} e^{-\\frac{(x - \\mu)^2}{2 \\sigma^2}} dx$\n",
    "\n",
    "<br><br>"
   ]
  },
  {
   "cell_type": "markdown",
   "metadata": {},
   "source": [
    "### Reference\n",
    "---\n",
    "\n",
    "`[1]` [LaTeX commands to display the Greek alphabet](https://www.latex-tutorial.com/symbols/greek-alphabet/ \"LaTeX commands to display the Greek alphabet\")<br>\n",
    "`[2]` [A simple guide to LaTeX - Step by Step](https://www.latex-tutorial.com/tutorials/ \"A simple guide to LaTeX - Step by Step\")\n"
   ]
  }
 ],
 "metadata": {
  "kernelspec": {
   "display_name": "Python [default]",
   "language": "python",
   "name": "python3"
  },
  "language_info": {
   "codemirror_mode": {
    "name": "ipython",
    "version": 3
   },
   "file_extension": ".py",
   "mimetype": "text/x-python",
   "name": "python",
   "nbconvert_exporter": "python",
   "pygments_lexer": "ipython3",
   "version": "3.6.1"
  }
 },
 "nbformat": 4,
 "nbformat_minor": 1
}
